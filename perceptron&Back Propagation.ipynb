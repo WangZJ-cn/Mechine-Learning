{
 "cells": [
  {
   "cell_type": "markdown",
   "metadata": {},
   "source": [
    "# 感知机模型"
   ]
  },
  {
   "cell_type": "markdown",
   "metadata": {},
   "source": [
    "* 梯度下降：一次将误分类集合中所有误分类点的梯度下降；  \n",
    "随机梯度下降：随机选取一个误分类点使其梯度下降。   \n",
    "* $sign(x)=\\left\\{\n",
    "\\begin{array}{lll}\n",
    "1 , x>0\\\\ \n",
    "-1 , x<0\n",
    "\\end{array}\n",
    "\\right.$   \n",
    "如果我们将sign称之为激活函数的话，感知机与logistic regression的差别就是感知机激活函数是sign，logistic regression的激活函数是sigmoid。sign(x)将大于0的分为1，小于0的分为-1；sigmoid将大于0.5的分为1，小于0.5的分为0   \n",
    "取$$h_{\\theta}(x)=sign(x)$$\n",
    "   \n",
    "     \n",
    "       \n",
    ">1. 感知机模型   \n",
    "    感知机模型如下：    \n",
    "f(x)= sign(w*x+b)      \n",
    "    其中，x为输入向量，sign为符号函数，括号里面大于等于0，则其值为1，括号里面小于0，则其值为-1。w为权值向量，b为偏置。求感知机模型即求模型参数w和b。感知机预测，即通过学习得到的感知机模型，对于新的输入实例给出其对应的输出类别1或者-1。   \n",
    "  \n",
    ">2.感知机策略       \n",
    "    假设训练数据集是线性可分的，感知机学习的目标就是求得一个能够将训练数据集中正负实例完全分开的分类超平面，为了找到分类超平面，即确定感知机模型中的参数w和b，需要定义一个损失函数并通过将损失函数最小化来求w和b。         \n",
    "    这里选择的损失函数是误分类点到分类超平面S的总距离。输入空间中任一点x0到超平面S的距离为： \n",
    "    ![avatar](https://img-my.csdn.net/uploads/201212/23/1356265667_3052.jpg)\n",
    "    其中，||w||为w的L2范数。        \n",
    "    其次，对于误分类点来说，当-yi (wxi + b)>0时，yi=-1，当-yi(wxi + b)<0时，yi=+1。所以对误分类点（xi, yi）满足：       \n",
    "-yi (wxi +b) > 0         \n",
    "所以误分类点（xi, yi）到分类超平面S的距离是：  \n",
    "    ![avatar](https://img-my.csdn.net/uploads/201212/23/1356265741_5071.jpg)\n",
    "\n",
    ">3. 感知机算法            \n",
    "     感知机学习问题转化为求解损失函数式（1）的最优化问题，最优化的方法是随机梯度下降法。感知机学习算法是误分类驱动的，具体采用随机梯度下降法。首先，任意选取一个超平面w0，b0，然后用梯度下降法不断极小化目标函数式（1）。极小化的过程不是一次使M中所有误分类点的梯度下降，而是一次随机选取一个误分类点使其梯度下降。      \n",
    "    损失函数L(w,b)的梯度是对w和b求偏导，即：      \n",
    "    ![avatar](https://img-my.csdn.net/uploads/201212/23/1356265788_9788.jpg)\n",
    "其中，（0<<=1）是学习率，即学习的步长。         \n",
    "    综上，感知机学习算法如下：       \n",
    "    这种算法的基本思想是：当一个实例点被误分类，即位于分类超平面错误的一侧时，则调整w和b，使分类超平面向该误分类点的一侧移动，以减少该误分类点与超平面的距离，直到超平面越过该误分类点使其被正确分类为止。           \n",
    "      需要注意的是，这种感知机学习算法得到的模型参数不是唯一的，它会由于采用不同的参数初始值或选取不同的误分类点，而导致解不同。为了得到唯一的分类超平面，需要对分类超平面增加约束条件，线性支持向量机就是这个想法。另外，当训练数据集线性不可分时，感知机学习算法不收敛，迭代结果会发生震荡。而对于线性可分的数据集，算法一定是收敛的，即经过有限次迭代，一定可以得到一个将数据集完全正确划分的分类超平面及感知机模型。\n",
    "\n",
    ">作者：qll125596718 \n",
    "来源：CSDN \n",
    "原文：https://blog.csdn.net/qll125596718/article/details/8394186 \n"
   ]
  },
  {
   "cell_type": "code",
   "execution_count": 2,
   "metadata": {},
   "outputs": [],
   "source": [
    "import numpy as np\n",
    "import matplotlib.pyplot as plt\n",
    "from sklearn.datasets.samples_generator import make_blobs  # sklearn用于生成数据集的库\n",
    "from scipy.special import expit  # 自带的sigmod函数"
   ]
  },
  {
   "cell_type": "markdown",
   "metadata": {},
   "source": [
    "## 含有两个特征的线性二分类问题"
   ]
  },
  {
   "cell_type": "code",
   "execution_count": 2,
   "metadata": {},
   "outputs": [
    {
     "data": {
      "image/png": "[encoded data removed]",
      "text/plain": [
       "<Figure size 432x288 with 1 Axes>"
      ]
     },
     "metadata": {},
     "output_type": "display_data"
    }
   ],
   "source": [
    "X, y = make_blobs(n_samples=100, centers=2, n_features=2,\n",
    "                  center_box=(3, -3), cluster_std=0.7)  # 生成线性分类测试集,含有2个特征\n",
    "\n",
    "plt.plot(X[np.where(y == 1), 0], X[(np.where(y == 1)), 1], 'ro')\n",
    "plt.plot(X[np.where(y == 0), 0], X[(np.where(y == 0)), 1], 'bo')"
   ]
  },
  {
   "cell_type": "code",
   "execution_count": 3,
   "metadata": {},
   "outputs": [
    {
     "data": {
      "text/plain": [
       "(100, 2)"
      ]
     },
     "execution_count": 3,
     "metadata": {},
     "output_type": "execute_result"
    }
   ],
   "source": [
    "X.shape"
   ]
  },
  {
   "cell_type": "code",
   "execution_count": 4,
   "metadata": {},
   "outputs": [],
   "source": [
    "X0 = X\n",
    "y0 = y\n",
    "for q in range(len(y)):\n",
    "    if y[q] == 0:\n",
    "        y[q] = -1"
   ]
  },
  {
   "cell_type": "code",
   "execution_count": 5,
   "metadata": {},
   "outputs": [],
   "source": [
    "def sign(x):\n",
    "    if x > 0:\n",
    "        return 1\n",
    "    else:\n",
    "        return -1"
   ]
  },
  {
   "cell_type": "code",
   "execution_count": 9,
   "metadata": {},
   "outputs": [
    {
     "name": "stdout",
     "output_type": "stream",
     "text": [
      "i= 1\n",
      "k= 1\n",
      "i= 2\n",
      "k= 1\n",
      "i= 3\n",
      "k= 1\n",
      "i= 4\n",
      "k= 1\n",
      "i= 5\n",
      "k= 1\n",
      "i= 6\n",
      "k= 1\n",
      "i= 7\n",
      "k= 1\n",
      "i= 8\n",
      "k= 1\n",
      "i= 9\n",
      "k= 1\n",
      "i= 10\n",
      "k= 2\n",
      "i= 11\n",
      "k= 2\n",
      "i= 12\n",
      "k= 2\n",
      "i= 13\n",
      "k= 2\n",
      "i= 14\n",
      "k= 2\n",
      "i= 15\n",
      "k= 2\n",
      "i= 16\n",
      "k= 2\n",
      "i= 17\n",
      "k= 2\n",
      "i= 18\n",
      "k= 2\n",
      "i= 19\n",
      "k= 4\n",
      "i= 20\n",
      "k= 4\n",
      "i= 21\n",
      "k= 4\n",
      "i= 22\n",
      "k= 4\n",
      "i= 23\n",
      "k= 4\n",
      "i= 24\n",
      "k= 4\n",
      "i= 25\n",
      "k= 4\n",
      "i= 26\n",
      "k= 4\n",
      "i= 27\n",
      "k= 4\n",
      "i= 28\n",
      "k= 4\n",
      "i= 29\n",
      "k= 4\n",
      "i= 30\n",
      "k= 4\n",
      "i= 31\n",
      "k= 4\n",
      "i= 32\n",
      "k= 4\n",
      "i= 33\n",
      "k= 4\n",
      "i= 34\n",
      "k= 4\n",
      "i= 35\n",
      "k= 4\n",
      "i= 36\n",
      "k= 4\n",
      "i= 37\n",
      "k= 4\n",
      "i= 38\n",
      "k= 4\n",
      "i= 39\n",
      "k= 4\n",
      "i= 40\n",
      "k= 4\n",
      "i= 41\n",
      "k= 4\n",
      "i= 42\n",
      "k= 4\n",
      "i= 43\n",
      "k= 4\n",
      "i= 44\n",
      "k= 4\n",
      "i= 45\n",
      "k= 4\n",
      "i= 46\n",
      "k= 4\n",
      "i= 47\n",
      "k= 4\n",
      "i= 48\n",
      "k= 4\n",
      "i= 49\n",
      "k= 4\n",
      "i= 50\n",
      "k= 4\n",
      "i= 51\n",
      "k= 5\n",
      "i= 52\n",
      "k= 5\n",
      "i= 53\n",
      "k= 5\n",
      "i= 54\n",
      "k= 5\n",
      "i= 55\n",
      "k= 5\n",
      "i= 56\n",
      "k= 5\n",
      "i= 57\n",
      "k= 5\n",
      "i= 58\n",
      "k= 5\n",
      "i= 59\n",
      "k= 5\n",
      "i= 60\n",
      "k= 5\n",
      "i= 61\n",
      "k= 6\n",
      "i= 62\n",
      "k= 6\n",
      "i= 63\n",
      "k= 6\n",
      "i= 64\n",
      "k= 6\n",
      "i= 65\n",
      "k= 6\n",
      "i= 66\n",
      "k= 6\n",
      "i= 67\n",
      "k= 6\n",
      "i= 68\n",
      "k= 6\n",
      "i= 69\n",
      "k= 6\n",
      "i= 70\n",
      "k= 6\n",
      "i= 71\n",
      "k= 6\n",
      "i= 72\n",
      "k= 6\n",
      "i= 73\n",
      "k= 6\n",
      "i= 74\n",
      "k= 6\n",
      "i= 75\n",
      "k= 6\n",
      "i= 76\n",
      "k= 6\n",
      "i= 77\n",
      "k= 6\n",
      "i= 78\n",
      "k= 6\n",
      "i= 79\n",
      "k= 6\n",
      "i= 80\n",
      "k= 6\n",
      "i= 81\n",
      "k= 6\n",
      "i= 82\n",
      "k= 6\n",
      "i= 83\n",
      "k= 6\n",
      "i= 84\n",
      "k= 6\n",
      "i= 85\n",
      "k= 6\n",
      "i= 86\n",
      "k= 6\n",
      "i= 87\n",
      "k= 6\n",
      "i= 88\n",
      "k= 6\n",
      "i= 89\n",
      "k= 6\n",
      "i= 90\n",
      "k= 6\n",
      "i= 91\n",
      "k= 6\n",
      "i= 92\n",
      "k= 6\n",
      "i= 93\n",
      "k= 6\n",
      "i= 94\n",
      "k= 6\n",
      "i= 95\n",
      "k= 6\n",
      "i= 96\n",
      "k= 6\n",
      "i= 97\n",
      "k= 6\n",
      "i= 98\n",
      "k= 6\n",
      "i= 99\n",
      "k= 6\n",
      "i= 100\n",
      "k= 6\n"
     ]
    }
   ],
   "source": [
    "# 生成超参数初值\n",
    "w = np.zeros(X.shape[1]+1)  # 初权重设置为0\n",
    "b = 0\n",
    "alpha = 0.1  # 学习率设置为0.1\n",
    "k = 0  # 记录迭代次数\n",
    "i = 0\n",
    "\n",
    "X = np.column_stack((np.ones(len(X)).reshape(100, 1), X))\n",
    "\n",
    "\n",
    "def y_pre(w, x):\n",
    "    return sign(np.dot(x[i], w.T))\n",
    "\n",
    "\n",
    "while 1:  # 开始循环\n",
    "    if y_pre(w, X)*y[i] <= 0:  # 如果误分类\n",
    "        w = w+0.5*(y[i]-y_pre(w, X))*X[i]\n",
    "        k += 1\n",
    "    else:\n",
    "        i += 1\n",
    "        print(\"i=\", i)\n",
    "        print(\"k=\", k)\n",
    "    if i >= len(X):\n",
    "        break"
   ]
  },
  {
   "cell_type": "code",
   "execution_count": 18,
   "metadata": {},
   "outputs": [
    {
     "data": {
      "text/plain": [
       "[<matplotlib.lines.Line2D at 0x1e914922ac8>]"
      ]
     },
     "execution_count": 18,
     "metadata": {},
     "output_type": "execute_result"
    },
    {
     "data": {
      "image/png": "[encoded data removed]",
      "text/plain": [
       "<Figure size 432x288 with 1 Axes>"
      ]
     },
     "metadata": {},
     "output_type": "display_data"
    }
   ],
   "source": [
    "x0 = np.arange(-3, 3, 0.05)\n",
    "plt.plot(X0[np.where(y0 == 1), 0], X0[(np.where(y0 == 1)), 1], 'ro')\n",
    "plt.plot(X0[np.where(y0 == -1), 0], X0[(np.where(y0 == -1)), 1], 'bo')\n",
    "plt.plot(x0, w[0]/w[2]+w[1]/w[2]*x0)"
   ]
  },
  {
   "cell_type": "markdown",
   "metadata": {},
   "source": [
    "# 人工神经网络&反向传播算法(1隐含层）"
   ]
  },
  {
   "cell_type": "markdown",
   "metadata": {},
   "source": [
    "sigmoid导数具体的推导过程如下：($f(z)=sigmod(z)$) \n",
    "    $$f′(z)=\\frac{1}{(1+e^{-z})′}=      \n",
    "  \\frac{e^{−z}}{(1+e^{-z})^2}=       \n",
    "  \\frac{1+e^{−z}-1}{(1+e^{-z})^2}=            \n",
    "  \\frac{1}{(1+e^{-z})}(1-\\frac{1}{(1+e^{-z})})=     \n",
    "  f(z)(1−f(z))$$"
   ]
  },
  {
   "cell_type": "code",
   "execution_count": 16,
   "metadata": {},
   "outputs": [
    {
     "data": {
      "image/png": "[encoded data removed]",
      "text/plain": [
       "<Figure size 504x504 with 1 Axes>"
      ]
     },
     "metadata": {},
     "output_type": "display_data"
    }
   ],
   "source": [
    "# 生成（0,1）的sin（10x）数据集\n",
    "x0 = np.arange(0, 1, 0.01).reshape(100, 1)\n",
    "y0 = np.sin(10*x0)\n",
    "plt.figure(figsize=(7, 7))\n",
    "plt.plot(x0, y, 'k--o')\n",
    "plt.grid(True)"
   ]
  },
  {
   "cell_type": "code",
   "execution_count": 3,
   "metadata": {},
   "outputs": [],
   "source": [
    "from scipy.special import expit  # 自带的sigmod函数作为激活函数\n",
    "\n",
    "\n",
    "def expit_derivative(x):  # 激活函数的导数\n",
    "    return x * (1-x)"
   ]
  },
  {
   "cell_type": "code",
   "execution_count": 21,
   "metadata": {},
   "outputs": [],
   "source": [
    "iter = 1000000\n",
    "alpha = 0.1\n",
    "m = x0.shape[0]\n",
    "input_dimension = x0.shape[1]\n",
    "hidden_layer_1_dimension = 20\n",
    "\n",
    "output_dimension = y.shape[1]\n",
    "\n",
    "X = x0\n",
    "y = y0\n",
    "Omega1 = np.random.randn(\n",
    "    input_dimension+1, hidden_layer_1_dimension)  # 标准正态分布的随机数\n",
    "\n",
    "Omega2 = np.random.randn(hidden_layer_1_dimension+1, output_dimension)\n",
    "\n",
    "J = np.empty(iter)\n",
    "ii = np.empty(iter)\n",
    "\n",
    "for i in np.arange(iter):\n",
    "\n",
    "    # forward\n",
    "\n",
    "    a1 = X\n",
    "    a11 = np.insert(a1, 0, values=1, axis=1)\n",
    "    Z2 = np.dot(a11, Omega1)\n",
    "    a2 = expit(Z2)\n",
    "    a21 = np.insert(a2, 0, values=1, axis=1)\n",
    "    Z3 = np.dot(a21, Omega2)\n",
    "    a3 = Z3  # 最终预测值\n",
    "\n",
    "    # 计算 cost function\n",
    "\n",
    "    J[i] = np.dot((a3-y).T, (a3-y))/2/m\n",
    "    ii[i] = i\n",
    "\n",
    "    # backpropagation\n",
    "\n",
    "    delta3 = a3 - y\n",
    "    d_Omega2 = np.dot(a21.T, delta3)\n",
    "\n",
    "    delta2 = np.dot(delta3, Omega2[1:, :].T)*(a2*(1-a2))\n",
    "    d_Omega1 = np.dot(a11.T, delta2)\n",
    "\n",
    "    # update weights\n",
    "\n",
    "    Omega1 = Omega1 - alpha*d_Omega1/m\n",
    "    Omega2 = Omega2 - alpha*d_Omega2/m"
   ]
  },
  {
   "cell_type": "code",
   "execution_count": 23,
   "metadata": {},
   "outputs": [
    {
     "name": "stdout",
     "output_type": "stream",
     "text": [
      "training err: 0.008867917302316128\n"
     ]
    },
    {
     "data": {
      "image/png": "[encoded data removed]",
      "text/plain": [
       "<Figure size 432x288 with 2 Axes>"
      ]
     },
     "metadata": {},
     "output_type": "display_data"
    }
   ],
   "source": [
    "print(\"training err:\", np.sqrt(2*J[-1]))\n",
    "plt.subplot(121)\n",
    "plt.plot(ii, J)\n",
    "plt.title(\"cost function\")\n",
    "plt.ylim([-0.05, 0.6])\n",
    "# plt.ylim()\n",
    "plt.subplot(122)\n",
    "plt.plot(X, y, 'k--o')\n",
    "plt.plot(X, a3, \"r-\")"
   ]
  },
  {
   "cell_type": "code",
   "execution_count": null,
   "metadata": {},
   "outputs": [],
   "source": []
  }
 ],
 "metadata": {
  "kernelspec": {
   "display_name": "Python 3",
   "language": "python",
   "name": "python3"
  },
  "language_info": {
   "codemirror_mode": {
    "name": "ipython",
    "version": 3
   },
   "file_extension": ".py",
   "mimetype": "text/x-python",
   "name": "python",
   "nbconvert_exporter": "python",
   "pygments_lexer": "ipython3",
   "version": "3.6.5"
  }
 },
 "nbformat": 4,
 "nbformat_minor": 2
}
